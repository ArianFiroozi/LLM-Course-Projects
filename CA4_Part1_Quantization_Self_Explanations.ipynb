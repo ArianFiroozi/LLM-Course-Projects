{
  "cells": [
    {
      "cell_type": "markdown",
      "metadata": {
        "id": "5_aFoOt_p3i_"
      },
      "source": [
        "## CA 4, LLMs Spring 2025\n",
        "\n",
        "- **Name:**\n",
        "- **Student ID:**\n",
        "\n",
        "---\n",
        "#### Your submission should be named using the following format: `CA4_Part1_LASTNAME_STUDENTID.ipynb`.\n",
        "\n",
        "---\n",
        "TA Email: melika.nobakhtian2000@gmail.com\n",
        "\n",
        "##### *How to do this problem set:*\n",
        "\n",
        "- Some questions require writing Python code and computing results, and the rest of them have written answers. For coding problems, you will have to fill out all code blocks that say `YOUR CODE HERE`.\n",
        "\n",
        "- For text-based answers, you should replace the text that says ```Your Answer Here``` with your actual answer.\n",
        "\n",
        "- There is no penalty for using AI assistance on this homework as long as you fully disclose it in the final cell of this notebook (this includes storing any prompts that you feed to large language models). That said, anyone caught using AI assistance without proper disclosure will receive a zero on the assignment (we have several automatic tools to detect such cases). We're literally allowing you to use it with no limitations, so there is no reason to lie!\n",
        "\n",
        "---\n",
        "\n",
        "##### *Academic honesty*\n",
        "\n",
        "- We will audit the Colab notebooks from a set number of students, chosen at random. The audits will check that the code you wrote actually generates the answers in your notebook. If you turn in correct answers on your notebook without code that actually generates those answers, we will consider this a serious case of cheating.\n",
        "\n",
        "- We will also run automatic checks of Colab notebooks for plagiarism. Copying code from others is also considered a serious case of cheating.\n",
        "\n",
        "---"
      ]
    },
    {
      "cell_type": "markdown",
      "metadata": {
        "id": "lWGLopwZ4z3Q"
      },
      "source": [
        "# Quantization (37 points)"
      ]
    },
    {
      "cell_type": "markdown",
      "metadata": {
        "id": "Z4p1gDPB5_Yy"
      },
      "source": [
        "Quantization is a technique used to reduce the precision of neural network weights and activations, typically from floating-point to a lower-bit representation, such as 8-bit or 4-bit integers. The primary goal of quantization is to reduce the memory footprint and computational requirements of deep learning models, enabling the loading of larger models that would normally not fit into available memory, and speeding up the inference process."
      ]
    },
    {
      "cell_type": "markdown",
      "metadata": {
        "id": "x36dBcBT6Obb"
      },
      "source": [
        "## A simple example (2 points)"
      ]
    },
    {
      "cell_type": "markdown",
      "metadata": {
        "id": "8dFkf7f06Z-x"
      },
      "source": [
        "Let's see what happens when a we quantize a 32-bit floating-point number."
      ]
    },
    {
      "cell_type": "code",
      "execution_count": 1,
      "metadata": {
        "id": "8_FGiu8Z4oxi"
      },
      "outputs": [],
      "source": [
        "# Import neccesary libraries\n",
        "import numpy as np\n",
        "import matplotlib.pyplot as plt"
      ]
    },
    {
      "cell_type": "markdown",
      "metadata": {
        "id": "xSD-3uGI6imR"
      },
      "source": [
        "Defining two functions which responsible for quantizing and dequantizing the input number:"
      ]
    },
    {
      "cell_type": "code",
      "execution_count": 2,
      "metadata": {
        "id": "lWA4KcxD6q5l"
      },
      "outputs": [],
      "source": [
        "def quantize(value, num_bits=4):\n",
        "    quantized_value = np.round(value * (2**(num_bits - 1) - 1))\n",
        "    return int(quantized_value)\n",
        "\n",
        "def dequantize(quantized_value, num_bits=4):\n",
        "    value = quantized_value / (2**(num_bits - 1) - 1)\n",
        "    return float(value)"
      ]
    },
    {
      "cell_type": "markdown",
      "metadata": {
        "id": "i9fg8sQp63QM"
      },
      "source": [
        "Consider the value `0.415`, the quantized values in 4 and 8 bits are:\n",
        "\n",
        "\n",
        "\n"
      ]
    },
    {
      "cell_type": "code",
      "execution_count": 3,
      "metadata": {
        "id": "AUcjKVkf69yo",
        "colab": {
          "base_uri": "https://localhost:8080/"
        },
        "outputId": "be058c7b-8ea8-40bd-e436-cdcacd0c72b2"
      },
      "outputs": [
        {
          "output_type": "stream",
          "name": "stdout",
          "text": [
            "4-bit: 3\n",
            "8-bit: 53\n"
          ]
        }
      ],
      "source": [
        "q_4bit = quantize(value=0.415, num_bits=4)\n",
        "q_8bit = quantize(value=0.415, num_bits=8)\n",
        "\n",
        "print(f'4-bit: {q_4bit}')\n",
        "print(f'8-bit: {q_8bit}')"
      ]
    },
    {
      "cell_type": "markdown",
      "metadata": {
        "id": "kptUMpda7Axu"
      },
      "source": [
        "And if we dequantize it to original full precision values we would have:"
      ]
    },
    {
      "cell_type": "code",
      "execution_count": 4,
      "metadata": {
        "id": "ydtKlg2i7Rgi",
        "colab": {
          "base_uri": "https://localhost:8080/"
        },
        "outputId": "957ffbc7-b67a-4d9a-dc12-0df2caf735b1"
      },
      "outputs": [
        {
          "output_type": "stream",
          "name": "stdout",
          "text": [
            "4-bit: 0.42857142857142855\n",
            "8-bit: 0.41732283464566927\n"
          ]
        }
      ],
      "source": [
        "print(f'4-bit: {dequantize(quantized_value=q_4bit, num_bits=4)}')\n",
        "print(f'8-bit: {dequantize(quantized_value=q_8bit, num_bits=8)}')"
      ]
    },
    {
      "cell_type": "markdown",
      "metadata": {
        "id": "dg4m2FQg7bR2"
      },
      "source": [
        "8-bit quantization preserves the original precision with very little degradationa and 4-bit quantization does incur more precision loss, but the level of loss can still be tolerated for many applications."
      ]
    },
    {
      "cell_type": "markdown",
      "metadata": {
        "id": "HldZAJCH7cHR"
      },
      "source": [
        "To understand the precision loss from 4-bit and 8-bit quantization, plot the function $y = x^2$ in the range of $[-1, 1]$, and compare the original values to the values obtained after quantization and dequantization for both 4-bit and 8-bit cases."
      ]
    },
    {
      "cell_type": "markdown",
      "metadata": {
        "id": "1fPJ-RuZlTKs"
      },
      "source": [
        "**# Write your answer here**"
      ]
    },
    {
      "cell_type": "code",
      "execution_count": 48,
      "metadata": {
        "id": "dx86yCld7m5z",
        "colab": {
          "base_uri": "https://localhost:8080/",
          "height": 472
        },
        "outputId": "4408dade-2888-4ec3-95a8-bcd77cb6e104"
      },
      "outputs": [
        {
          "output_type": "display_data",
          "data": {
            "text/plain": [
              "<Figure size 640x480 with 1 Axes>"
            ],
            "image/png": "[encoded data removed]"
          },
          "metadata": {}
        }
      ],
      "source": [
        "x = np.linspace(-0.5, 0.5, 4000)\n",
        "y = x**2\n",
        "\n",
        "vectorized__quant = np.vectorize(quantize)\n",
        "vectorized__dequant = np.vectorize(dequantize)\n",
        "y_quant4 = vectorized__quant(y,4)\n",
        "y_quant4 = vectorized__dequant(y_quant4,4)\n",
        "y_quant8 = vectorized__quant(y,8)\n",
        "y_quant8 = vectorized__dequant(y_quant8,8)\n",
        "\n",
        "plt.plot(x, y, label='x²', color='blue', linewidth=0.5)\n",
        "plt.plot(x, y_quant4, label='quant4(x²)', color='red', linewidth=1)\n",
        "plt.plot(x, y_quant8, label='quant8(x²)', color='green', linewidth=0.5)\n",
        "\n",
        "plt.xlabel('x')\n",
        "plt.ylabel('y')\n",
        "plt.title('Plot of y = x²')\n",
        "plt.grid(True)\n",
        "plt.legend()\n",
        "\n",
        "plt.show()"
      ]
    },
    {
      "cell_type": "markdown",
      "metadata": {
        "id": "VfZQZyZrFSP3"
      },
      "source": [
        "## 4-bit quantization and QLoRA"
      ]
    },
    {
      "cell_type": "markdown",
      "metadata": {
        "id": "n0sKgxs3FX3H"
      },
      "source": [
        "### Install requirements"
      ]
    },
    {
      "cell_type": "markdown",
      "metadata": {
        "id": "b_uIGUPt9ChS"
      },
      "source": [
        "*You may need to restart the session after installation.*"
      ]
    },
    {
      "cell_type": "code",
      "execution_count": 1,
      "metadata": {
        "colab": {
          "base_uri": "https://localhost:8080/"
        },
        "id": "5wA_wz3YFkaw",
        "outputId": "e8793786-e038-484f-88c7-3ee70a5bd254"
      },
      "outputs": [
        {
          "output_type": "stream",
          "name": "stdout",
          "text": [
            "\u001b[33mWARNING: Ignoring invalid distribution ~vidia-cusolver-cu12 (/usr/local/lib/python3.11/dist-packages)\u001b[0m\u001b[33m\n",
            "\u001b[0m\u001b[33mWARNING: Ignoring invalid distribution ~vidia-cusolver-cu12 (/usr/local/lib/python3.11/dist-packages)\u001b[0m\u001b[33m\n",
            "\u001b[0mRequirement already satisfied: transformers in /usr/local/lib/python3.11/dist-packages (4.52.2)\n",
            "Requirement already satisfied: accelerate in /usr/local/lib/python3.11/dist-packages (1.7.0)\n",
            "Collecting bitsandbytes\n",
            "  Using cached bitsandbytes-0.46.0-py3-none-manylinux_2_24_x86_64.whl.metadata (10 kB)\n",
            "Requirement already satisfied: filelock in /usr/local/lib/python3.11/dist-packages (from transformers) (3.18.0)\n",
            "Requirement already satisfied: huggingface-hub<1.0,>=0.30.0 in /usr/local/lib/python3.11/dist-packages (from transformers) (0.31.4)\n",
            "Requirement already satisfied: numpy>=1.17 in /usr/local/lib/python3.11/dist-packages (from transformers) (2.0.2)\n",
            "Requirement already satisfied: packaging>=20.0 in /usr/local/lib/python3.11/dist-packages (from transformers) (24.2)\n",
            "Requirement already satisfied: pyyaml>=5.1 in /usr/local/lib/python3.11/dist-packages (from transformers) (6.0.2)\n",
            "Requirement already satisfied: regex!=2019.12.17 in /usr/local/lib/python3.11/dist-packages (from transformers) (2024.11.6)\n",
            "Requirement already satisfied: requests in /usr/local/lib/python3.11/dist-packages (from transformers) (2.32.3)\n",
            "Requirement already satisfied: tokenizers<0.22,>=0.21 in /usr/local/lib/python3.11/dist-packages (from transformers) (0.21.1)\n",
            "Requirement already satisfied: safetensors>=0.4.3 in /usr/local/lib/python3.11/dist-packages (from transformers) (0.5.3)\n",
            "Requirement already satisfied: tqdm>=4.27 in /usr/local/lib/python3.11/dist-packages (from transformers) (4.67.1)\n",
            "Requirement already satisfied: psutil in /usr/local/lib/python3.11/dist-packages (from accelerate) (5.9.5)\n",
            "Requirement already satisfied: torch>=2.0.0 in /usr/local/lib/python3.11/dist-packages (from accelerate) (2.6.0+cu124)\n",
            "Requirement already satisfied: fsspec>=2023.5.0 in /usr/local/lib/python3.11/dist-packages (from huggingface-hub<1.0,>=0.30.0->transformers) (2025.3.2)\n",
            "Requirement already satisfied: typing-extensions>=3.7.4.3 in /usr/local/lib/python3.11/dist-packages (from huggingface-hub<1.0,>=0.30.0->transformers) (4.13.2)\n",
            "Requirement already satisfied: networkx in /usr/local/lib/python3.11/dist-packages (from torch>=2.0.0->accelerate) (3.4.2)\n",
            "Requirement already satisfied: jinja2 in /usr/local/lib/python3.11/dist-packages (from torch>=2.0.0->accelerate) (3.1.6)\n",
            "Requirement already satisfied: nvidia-cuda-nvrtc-cu12==12.4.127 in /usr/local/lib/python3.11/dist-packages (from torch>=2.0.0->accelerate) (12.4.127)\n",
            "Requirement already satisfied: nvidia-cuda-runtime-cu12==12.4.127 in /usr/local/lib/python3.11/dist-packages (from torch>=2.0.0->accelerate) (12.4.127)\n",
            "Requirement already satisfied: nvidia-cuda-cupti-cu12==12.4.127 in /usr/local/lib/python3.11/dist-packages (from torch>=2.0.0->accelerate) (12.4.127)\n",
            "Requirement already satisfied: nvidia-cudnn-cu12==9.1.0.70 in /usr/local/lib/python3.11/dist-packages (from torch>=2.0.0->accelerate) (9.1.0.70)\n",
            "Requirement already satisfied: nvidia-cublas-cu12==12.4.5.8 in /usr/local/lib/python3.11/dist-packages (from torch>=2.0.0->accelerate) (12.4.5.8)\n",
            "Requirement already satisfied: nvidia-cufft-cu12==11.2.1.3 in /usr/local/lib/python3.11/dist-packages (from torch>=2.0.0->accelerate) (11.2.1.3)\n",
            "Requirement already satisfied: nvidia-curand-cu12==10.3.5.147 in /usr/local/lib/python3.11/dist-packages (from torch>=2.0.0->accelerate) (10.3.5.147)\n",
            "Collecting nvidia-cusolver-cu12==11.6.1.9 (from torch>=2.0.0->accelerate)\n",
            "  Using cached nvidia_cusolver_cu12-11.6.1.9-py3-none-manylinux2014_x86_64.whl.metadata (1.6 kB)\n",
            "Requirement already satisfied: nvidia-cusparse-cu12==12.3.1.170 in /usr/local/lib/python3.11/dist-packages (from torch>=2.0.0->accelerate) (12.3.1.170)\n",
            "Requirement already satisfied: nvidia-cusparselt-cu12==0.6.2 in /usr/local/lib/python3.11/dist-packages (from torch>=2.0.0->accelerate) (0.6.2)\n",
            "Requirement already satisfied: nvidia-nccl-cu12==2.21.5 in /usr/local/lib/python3.11/dist-packages (from torch>=2.0.0->accelerate) (2.21.5)\n",
            "Requirement already satisfied: nvidia-nvtx-cu12==12.4.127 in /usr/local/lib/python3.11/dist-packages (from torch>=2.0.0->accelerate) (12.4.127)\n",
            "Requirement already satisfied: nvidia-nvjitlink-cu12==12.4.127 in /usr/local/lib/python3.11/dist-packages (from torch>=2.0.0->accelerate) (12.4.127)\n",
            "Requirement already satisfied: triton==3.2.0 in /usr/local/lib/python3.11/dist-packages (from torch>=2.0.0->accelerate) (3.2.0)\n",
            "Requirement already satisfied: sympy==1.13.1 in /usr/local/lib/python3.11/dist-packages (from torch>=2.0.0->accelerate) (1.13.1)\n",
            "Requirement already satisfied: mpmath<1.4,>=1.1.0 in /usr/local/lib/python3.11/dist-packages (from sympy==1.13.1->torch>=2.0.0->accelerate) (1.3.0)\n",
            "Requirement already satisfied: charset-normalizer<4,>=2 in /usr/local/lib/python3.11/dist-packages (from requests->transformers) (3.4.2)\n",
            "Requirement already satisfied: idna<4,>=2.5 in /usr/local/lib/python3.11/dist-packages (from requests->transformers) (3.10)\n",
            "Requirement already satisfied: urllib3<3,>=1.21.1 in /usr/local/lib/python3.11/dist-packages (from requests->transformers) (2.4.0)\n",
            "Requirement already satisfied: certifi>=2017.4.17 in /usr/local/lib/python3.11/dist-packages (from requests->transformers) (2025.4.26)\n",
            "Requirement already satisfied: MarkupSafe>=2.0 in /usr/local/lib/python3.11/dist-packages (from jinja2->torch>=2.0.0->accelerate) (3.0.2)\n",
            "Using cached bitsandbytes-0.46.0-py3-none-manylinux_2_24_x86_64.whl (67.0 MB)\n",
            "Using cached nvidia_cusolver_cu12-11.6.1.9-py3-none-manylinux2014_x86_64.whl (127.9 MB)\n",
            "\u001b[33mWARNING: Ignoring invalid distribution ~vidia-cusolver-cu12 (/usr/local/lib/python3.11/dist-packages)\u001b[0m\u001b[33m\n",
            "\u001b[0mInstalling collected packages: nvidia-cusolver-cu12, bitsandbytes\n",
            "\u001b[33mWARNING: Ignoring invalid distribution ~vidia-cusolver-cu12 (/usr/local/lib/python3.11/dist-packages)\u001b[0m\u001b[33m\n",
            "\u001b[0m\u001b[33mWARNING: Ignoring invalid distribution ~vidia-cusolver-cu12 (/usr/local/lib/python3.11/dist-packages)\u001b[0m\u001b[33m\n",
            "\u001b[0mSuccessfully installed bitsandbytes-0.46.0 nvidia-cusolver-cu12\n"
          ]
        }
      ],
      "source": [
        "pip install transformers accelerate bitsandbytes"
      ]
    },
    {
      "cell_type": "markdown",
      "metadata": {
        "id": "M6zqiitn9sr0"
      },
      "source": [
        "### Comparing Models (4 points)"
      ]
    },
    {
      "cell_type": "markdown",
      "metadata": {
        "id": "_e9PRWj5-V5l"
      },
      "source": [
        "In this part, you should load a model in two modes: standard and 4-bit mode. After loading model in two modes, print each model. What differences you see between these two versions of model? Why we have these differences?"
      ]
    },
    {
      "cell_type": "markdown",
      "metadata": {
        "id": "RCXWuS_SlXwR"
      },
      "source": [
        "Layers like linear layers are quantizde, therefore the layers are Linear4bit instead of Linear. these layers are different because, well, we have quantized the model :)) some layers are not quantized for example the normalization layers, i searched and it is apparantley due to sensitive nature of these layers and even small changes made might drastically degrade the output quality, therfore 4bit load leaves those layers as they are and only quantizes some layers."
      ]
    },
    {
      "cell_type": "code",
      "execution_count": 46,
      "metadata": {
        "id": "3OVTQkc8_8dv",
        "colab": {
          "base_uri": "https://localhost:8080/"
        },
        "outputId": "3712cb25-f2d3-4b94-cd11-3188bc5861da"
      },
      "outputs": [
        {
          "output_type": "stream",
          "name": "stderr",
          "text": [
            "The `load_in_4bit` and `load_in_8bit` arguments are deprecated and will be removed in the future versions. Please, pass a `BitsAndBytesConfig` object in `quantization_config` argument instead.\n"
          ]
        }
      ],
      "source": [
        "from transformers import AutoModelForCausalLM, AutoTokenizer\n",
        "import torch\n",
        "\n",
        "model_id = \"facebook/opt-350m\"\n",
        "\n",
        "tokenizer = AutoTokenizer.from_pretrained(model_id)\n",
        "\n",
        "model_quant = AutoModelForCausalLM.from_pretrained(\n",
        "    model_id,\n",
        "    load_in_4bit=True,\n",
        "    device_map=\"auto\",\n",
        "    torch_dtype=torch.float16\n",
        ")\n",
        "\n",
        "model = AutoModelForCausalLM.from_pretrained(\n",
        "    model_id,\n",
        "    load_in_4bit=False,\n",
        "    device_map=\"auto\",\n",
        "    torch_dtype=torch.float16\n",
        ")"
      ]
    },
    {
      "cell_type": "code",
      "source": [
        "model"
      ],
      "metadata": {
        "colab": {
          "base_uri": "https://localhost:8080/"
        },
        "id": "dORvWHtGFNvp",
        "outputId": "e43274c9-5bff-44af-b401-66c93dc25d05"
      },
      "execution_count": 47,
      "outputs": [
        {
          "output_type": "execute_result",
          "data": {
            "text/plain": [
              "OPTForCausalLM(\n",
              "  (model): OPTModel(\n",
              "    (decoder): OPTDecoder(\n",
              "      (embed_tokens): Embedding(50272, 512, padding_idx=1)\n",
              "      (embed_positions): OPTLearnedPositionalEmbedding(2050, 1024)\n",
              "      (project_out): Linear(in_features=1024, out_features=512, bias=False)\n",
              "      (project_in): Linear(in_features=512, out_features=1024, bias=False)\n",
              "      (layers): ModuleList(\n",
              "        (0-23): 24 x OPTDecoderLayer(\n",
              "          (self_attn): OPTAttention(\n",
              "            (k_proj): Linear(in_features=1024, out_features=1024, bias=True)\n",
              "            (v_proj): Linear(in_features=1024, out_features=1024, bias=True)\n",
              "            (q_proj): Linear(in_features=1024, out_features=1024, bias=True)\n",
              "            (out_proj): Linear(in_features=1024, out_features=1024, bias=True)\n",
              "          )\n",
              "          (activation_fn): ReLU()\n",
              "          (self_attn_layer_norm): LayerNorm((1024,), eps=1e-05, elementwise_affine=True)\n",
              "          (fc1): Linear(in_features=1024, out_features=4096, bias=True)\n",
              "          (fc2): Linear(in_features=4096, out_features=1024, bias=True)\n",
              "          (final_layer_norm): LayerNorm((1024,), eps=1e-05, elementwise_affine=True)\n",
              "        )\n",
              "      )\n",
              "    )\n",
              "  )\n",
              "  (lm_head): Linear(in_features=512, out_features=50272, bias=False)\n",
              ")"
            ]
          },
          "metadata": {},
          "execution_count": 47
        }
      ]
    },
    {
      "cell_type": "code",
      "source": [
        "model_quant"
      ],
      "metadata": {
        "colab": {
          "base_uri": "https://localhost:8080/"
        },
        "id": "84K2i8pLFP56",
        "outputId": "2267d121-1a12-447f-f41d-7126d67ba95b"
      },
      "execution_count": 48,
      "outputs": [
        {
          "output_type": "execute_result",
          "data": {
            "text/plain": [
              "OPTForCausalLM(\n",
              "  (model): OPTModel(\n",
              "    (decoder): OPTDecoder(\n",
              "      (embed_tokens): Embedding(50272, 512, padding_idx=1)\n",
              "      (embed_positions): OPTLearnedPositionalEmbedding(2050, 1024)\n",
              "      (project_out): Linear4bit(in_features=1024, out_features=512, bias=False)\n",
              "      (project_in): Linear4bit(in_features=512, out_features=1024, bias=False)\n",
              "      (layers): ModuleList(\n",
              "        (0-23): 24 x OPTDecoderLayer(\n",
              "          (self_attn): OPTAttention(\n",
              "            (k_proj): Linear4bit(in_features=1024, out_features=1024, bias=True)\n",
              "            (v_proj): Linear4bit(in_features=1024, out_features=1024, bias=True)\n",
              "            (q_proj): Linear4bit(in_features=1024, out_features=1024, bias=True)\n",
              "            (out_proj): Linear4bit(in_features=1024, out_features=1024, bias=True)\n",
              "          )\n",
              "          (activation_fn): ReLU()\n",
              "          (self_attn_layer_norm): LayerNorm((1024,), eps=1e-05, elementwise_affine=True)\n",
              "          (fc1): Linear4bit(in_features=1024, out_features=4096, bias=True)\n",
              "          (fc2): Linear4bit(in_features=4096, out_features=1024, bias=True)\n",
              "          (final_layer_norm): LayerNorm((1024,), eps=1e-05, elementwise_affine=True)\n",
              "        )\n",
              "      )\n",
              "    )\n",
              "  )\n",
              "  (lm_head): Linear(in_features=512, out_features=50272, bias=False)\n",
              ")"
            ]
          },
          "metadata": {},
          "execution_count": 48
        }
      ]
    },
    {
      "cell_type": "markdown",
      "metadata": {
        "id": "HsCUa553AnOf"
      },
      "source": [
        "Try to inference from both of these models with asking them to continue a sentence. Is there any difference between their outputs? Why?"
      ]
    },
    {
      "cell_type": "markdown",
      "metadata": {
        "id": "ZTb9a8dylcF-"
      },
      "source": [
        "**# Write your answer here**"
      ]
    },
    {
      "cell_type": "code",
      "execution_count": 87,
      "metadata": {
        "id": "xPVATUGPcVrM",
        "colab": {
          "base_uri": "https://localhost:8080/"
        },
        "outputId": "6a74443e-a58e-4f05-ad67-1e80578c3aef"
      },
      "outputs": [
        {
          "output_type": "stream",
          "name": "stdout",
          "text": [
            "Welcome! This is is is is is is is is is is is is is is is is is is is is is\n"
          ]
        }
      ],
      "source": [
        "text = \"Welcome! This is\"\n",
        "device = \"cuda:0\"\n",
        "\n",
        "model.to(device)\n",
        "inputs = tokenizer(text, return_tensors=\"pt\").to(device)\n",
        "outputs = model.generate(**inputs, max_new_tokens=20)\n",
        "print(tokenizer.decode(outputs[0], skip_special_tokens=True))"
      ]
    },
    {
      "cell_type": "code",
      "source": [
        "from transformers import pipeline, set_seed\n",
        "\n",
        "generator = pipeline('text-generation', model=model, tokenizer=tokenizer, do_sample=True, max_new_tokens=20)\n",
        "generator(text)"
      ],
      "metadata": {
        "colab": {
          "base_uri": "https://localhost:8080/"
        },
        "id": "n09lIdVUJ0H8",
        "outputId": "9efc1d9f-cd2e-43ed-e2d1-29815596362f"
      },
      "execution_count": 86,
      "outputs": [
        {
          "output_type": "stream",
          "name": "stderr",
          "text": [
            "Device set to use cuda:0\n",
            "Both `max_new_tokens` (=20) and `max_length`(=21) seem to have been set. `max_new_tokens` will take precedence. Please refer to the documentation for more information. (https://huggingface.co/docs/transformers/main/en/main_classes/text_generation)\n"
          ]
        },
        {
          "output_type": "execute_result",
          "data": {
            "text/plain": [
              "[{'generated_text': 'Welcome! This is The The The The The The The The The The The The The The The'}]"
            ]
          },
          "metadata": {},
          "execution_count": 86
        }
      ]
    },
    {
      "cell_type": "code",
      "source": [
        "model_quant.to(device)\n",
        "inputs = tokenizer(text, return_tensors=\"pt\").to(device)\n",
        "outputs = model_quant.generate(**inputs, max_new_tokens=20, num_beams=3, do_sample=True, temperature=0.7)\n",
        "print(tokenizer.decode(outputs[0], skip_special_tokens=True))"
      ],
      "metadata": {
        "colab": {
          "base_uri": "https://localhost:8080/"
        },
        "id": "PqqBeCiJHHJU",
        "outputId": "febd41dd-4669-4aaf-8dc3-e9001980ce0c"
      },
      "execution_count": 88,
      "outputs": [
        {
          "output_type": "stream",
          "name": "stdout",
          "text": [
            "Welcome! This is is is is is is is is is is is is is is is is is is is is is\n"
          ]
        }
      ]
    },
    {
      "cell_type": "code",
      "source": [
        "from transformers import pipeline\n",
        "\n",
        "generator = pipeline('text-generation', model=model_quant, tokenizer=tokenizer, do_sample=True, max_new_tokens=20)\n",
        "generator(text)"
      ],
      "metadata": {
        "colab": {
          "base_uri": "https://localhost:8080/"
        },
        "id": "wL6I98EJKGPZ",
        "outputId": "7bd1d879-6dab-49e5-cb6e-36ee22581fd0"
      },
      "execution_count": 90,
      "outputs": [
        {
          "output_type": "stream",
          "name": "stderr",
          "text": [
            "Device set to use cuda:0\n",
            "Both `max_new_tokens` (=20) and `max_length`(=21) seem to have been set. `max_new_tokens` will take precedence. Please refer to the documentation for more information. (https://huggingface.co/docs/transformers/main/en/main_classes/text_generation)\n"
          ]
        },
        {
          "output_type": "execute_result",
          "data": {
            "text/plain": [
              "[{'generated_text': 'Welcome! This is Not'}]"
            ]
          },
          "metadata": {},
          "execution_count": 90
        }
      ]
    },
    {
      "cell_type": "markdown",
      "metadata": {
        "id": "zsorvKliELbU"
      },
      "source": [
        "### Advanced Quantization with BitsAndBytes (6 points)"
      ]
    },
    {
      "cell_type": "markdown",
      "metadata": {
        "id": "hp3MW9gsEywL"
      },
      "source": [
        "In this part, again we want to load a quantized version of our desired model (in 4 bit) but this time with `BitsAndBytesConfig` and more advanced settings. Answer the following questions about different parameters of config or explain about the. Then use them to define the suitable config and load model with it.\n",
        "\n",
        "\n",
        "*   Explain about `compute_dtype`, its different modes and the differences among these modes.\n",
        "*   The 4bit integration comes with 2 different quantization types: FP4 and NF4. Explain about them and talk about their differences.\n",
        "* We can use nested quantization with setting `bnb_4bit_use_double_quant=True`. What is this and What can we do with this?\n",
        "\n"
      ]
    },
    {
      "cell_type": "markdown",
      "source": [
        "compute_dtype sets the computation type of the model. this might be different from the input type, for example we can load in 32 bit, but do computations in 16 bit which is faster. it can be any torch.dtype\n",
        "\n",
        "both are 4bit types, nf4 is a high performance mode and fp4 is the uniform 4 bit. nf4 uses the normal distribution and expands the values that appear more frequently in a neural net, and assigns more bits to show these values, but fp4 simply maps the 4 bits as a uniform distribution and operates like fp32 or fp16.\n",
        "\n",
        "it applies two quantizations and can save 0.4 bits per parameter (according to this: https://huggingface.co/blog/4bit-transformers-bitsandbytes). this method quantizes a model progressivly and applies the second quantization after the first in a coarse-to-fine manner."
      ],
      "metadata": {
        "id": "XjxvQL3XOEfl"
      }
    },
    {
      "cell_type": "code",
      "execution_count": 92,
      "metadata": {
        "id": "5RG6mDLHEvXj"
      },
      "outputs": [],
      "source": [
        "import torch\n",
        "from transformers import BitsAndBytesConfig\n",
        "\n",
        "config = BitsAndBytesConfig(\n",
        "   load_in_4bit=True,\n",
        "   bnb_4bit_quant_type=\"nf4\",\n",
        "   bnb_4bit_use_double_quant=True,\n",
        "   bnb_4bit_compute_dtype=torch.bfloat16\n",
        ")\n",
        "\n",
        "model_quant_config = AutoModelForCausalLM.from_pretrained(model_id, quantization_config=config)"
      ]
    },
    {
      "cell_type": "markdown",
      "metadata": {
        "id": "FjUcA6DkOPyP"
      },
      "source": [
        "Again try to make inference from this model by completting a sentence. Is there any difference with previous modes?"
      ]
    },
    {
      "cell_type": "code",
      "execution_count": 94,
      "metadata": {
        "id": "WUbh0FOHTNSc",
        "colab": {
          "base_uri": "https://localhost:8080/",
          "height": 35
        },
        "outputId": "81836e72-43c2-4165-c064-24916f56c409"
      },
      "outputs": [
        {
          "output_type": "execute_result",
          "data": {
            "text/plain": [
              "'Welcome! This is is is is is is is is is is is is is is is is is is is is is'"
            ],
            "application/vnd.google.colaboratory.intrinsic+json": {
              "type": "string"
            }
          },
          "metadata": {},
          "execution_count": 94
        }
      ],
      "source": [
        "text = \"Welcome! This is\"\n",
        "device = \"cuda:0\"\n",
        "\n",
        "model_quant_config.to(device)\n",
        "inputs = tokenizer(text, return_tensors=\"pt\").to(device)\n",
        "outputs = model_quant_config.generate(**inputs, max_new_tokens=20)\n",
        "tokenizer.decode(outputs[0], skip_special_tokens=True)"
      ]
    },
    {
      "cell_type": "code",
      "source": [
        "from transformers import pipeline\n",
        "\n",
        "generator = pipeline('text-generation', model=model_quant_config, tokenizer=tokenizer, do_sample=True, max_new_tokens=20)\n",
        "generator(text)"
      ],
      "metadata": {
        "colab": {
          "base_uri": "https://localhost:8080/"
        },
        "id": "kO3UVlIhScP-",
        "outputId": "68e1fff4-9baf-460f-98a8-d39b3752c8b8"
      },
      "execution_count": 95,
      "outputs": [
        {
          "output_type": "stream",
          "name": "stderr",
          "text": [
            "Device set to use cuda:0\n",
            "Both `max_new_tokens` (=20) and `max_length`(=21) seem to have been set. `max_new_tokens` will take precedence. Please refer to the documentation for more information. (https://huggingface.co/docs/transformers/main/en/main_classes/text_generation)\n"
          ]
        },
        {
          "output_type": "execute_result",
          "data": {
            "text/plain": [
              "[{'generated_text': 'Welcome! This is the Past.\\n\\nThe Past             '}]"
            ]
          },
          "metadata": {},
          "execution_count": 95
        }
      ]
    },
    {
      "cell_type": "markdown",
      "metadata": {
        "id": "KAKMQZtInvxQ"
      },
      "source": [
        "## Fine-Tune Gemma using QloRA"
      ]
    },
    {
      "cell_type": "markdown",
      "metadata": {
        "id": "AjG8kSbPrAr8"
      },
      "source": [
        "In this part, you will find out how to fine-tune Gemma on a custom text-to-sql dataset using Hugging Face Transformers and TRL. You will use and learn about:\n",
        "\n",
        "* Quantized Low-Rank Adaptation (QLoRA)\n",
        "* Setup development environment\n",
        "* Create and prepare the fine-tuning dataset\n",
        "* Fine-tune Gemma using TRL and the SFTTrainer\n",
        "* Test Model Inference and generate SQL queries"
      ]
    },
    {
      "cell_type": "markdown",
      "metadata": {
        "id": "AFJI6YXBhRSN"
      },
      "source": [
        "### Setup environment"
      ]
    },
    {
      "cell_type": "markdown",
      "metadata": {
        "id": "dW22burjh-RW"
      },
      "source": [
        "*You may need to restart the session after installation.*"
      ]
    },
    {
      "cell_type": "code",
      "execution_count": null,
      "metadata": {
        "id": "8_744JlchYV-"
      },
      "outputs": [],
      "source": [
        "!pip install \"torch>=2.4.0\" tensorboard\n",
        "\n",
        "!pip install \"transformers>=4.51.3\"\n",
        "\n",
        "\n",
        "!pip install  --upgrade \\\n",
        "  \"datasets==3.3.2\" \\\n",
        "  \"accelerate==1.4.0\" \\\n",
        "  \"evaluate==0.4.3\" \\\n",
        "  \"bitsandbytes==0.45.3\" \\\n",
        "  \"trl==0.15.2\" \\\n",
        "  \"peft==0.14.0\" \\\n",
        "  protobuf \\\n",
        "  sentencepiece\n",
        "\n",
        "!pip uninstall protobuf python3-protobuf\n",
        "!pip install --upgrade pip\n",
        "!pip install --upgrade protobuf"
      ]
    },
    {
      "cell_type": "markdown",
      "metadata": {
        "id": "ir7O4KSeidPk"
      },
      "source": [
        "### Hugging Face Login"
      ]
    },
    {
      "cell_type": "markdown",
      "metadata": {
        "id": "MKr37V6hioOr"
      },
      "source": [
        "For some language models, you need to agree to share your contact information to access the model. `gemma-3-1b-pt` is one of them. The steps you should take are as follows:\n",
        "\n",
        "1.   Create a Gugging Face account if you don't have one.\n",
        "2.   From Settings > Access Tokens, generate a new token. Your access token should have both read and write permissions.\n",
        "3.   From [this link](https://huggingface.co/google/gemma-3-1b-pt) agree to access the repository.\n",
        "\n",
        "Now, run the code below to login to your account."
      ]
    },
    {
      "cell_type": "code",
      "execution_count": null,
      "metadata": {
        "id": "Vzsky5fojQwz"
      },
      "outputs": [],
      "source": [
        "from huggingface_hub import login\n",
        "access_token = \"\"\n",
        "login(token = access_token)"
      ]
    },
    {
      "cell_type": "markdown",
      "metadata": {
        "id": "vzkEGc5SkCjY"
      },
      "source": [
        "### Create and prepare the fine-tuning dataset (6 points)"
      ]
    },
    {
      "cell_type": "markdown",
      "metadata": {
        "id": "05DiPid_1hLn"
      },
      "source": [
        "\n",
        "\n",
        "Our purpose ia to fine-tune a natural language to SQL model for seamless integration into a data analysis tool. Now, we need a dataset to fine-tune.\n",
        "\n",
        "Here we use this dataset [philschmid/gretel-synthetic-text-to-sql](https://huggingface.co/datasets/philschmid/gretel-synthetic-text-to-sql), a high quality synthetic Text-to-SQL dataset including natural language instructions, schema definitions, reasoning and the corresponding SQL query.\n",
        "\n",
        "Hugging Face TRL supports automatic templating of conversation dataset formats. This means you only need to convert your dataset into the right json objects, and trl takes care of templating and putting it into the right format.\n",
        "\n",
        "This dataset contains over 100k samples. But now you should only use 5000 samples and 1000 samples from that will be used for test dataset.\n",
        "\n",
        "You should now use the Hugging Face Datasets library to load the dataset and create a prompt template to combine the natural language instruction, schema definition and add a system message for your assistant."
      ]
    },
    {
      "cell_type": "code",
      "execution_count": null,
      "metadata": {
        "id": "wFX5yQlk46wq"
      },
      "outputs": [],
      "source": [
        "from datasets import load_dataset\n",
        "\n",
        "# System message for assistant\n",
        "system_message = \"\"\" \"\"\"\n",
        "\n",
        "# User prompt that combines the 'user query' and the 'schema' (context) from dataset\n",
        "user_prompt = \"\"\" \"\"\"\n",
        "\n",
        "# WRITE YOUR CODE HERE\n",
        "# Complete this function\n",
        "def create_conversation(sample):\n",
        "  return {\n",
        "    \"messages\": [\n",
        "      {\"role\": \"system\", \"content\": ... },\n",
        "      {\"role\": \"user\", \"content\": ... },\n",
        "      {\"role\": \"assistant\", \"content\": ... }\n",
        "    ]\n",
        "  }\n",
        "\n",
        "# Load dataset from the hub\n",
        "dataset = ...\n",
        "\n",
        "# Mapping dataset and split it to train and test\n",
        "# WRITE YOUR CODE HERE\n",
        "...\n",
        "\n",
        "# Print formatted user prompt\n",
        "# WRITE YOUR CODE HERE\n",
        "..."
      ]
    },
    {
      "cell_type": "markdown",
      "metadata": {
        "id": "tJZyteem8K-a"
      },
      "source": [
        "### Fine-tune Gemma using TRL and the SFTTrainer (12 points)"
      ]
    },
    {
      "cell_type": "markdown",
      "metadata": {
        "id": "AjRLbUQW8Gbq"
      },
      "source": [
        "\n",
        "You are now ready to fine-tune your model. Hugging Face TRL SFTTrainer makes it straightforward to supervise fine-tune open LLMs. The SFTTrainer is a subclass of the Trainer from the transformers library and supports all the same features, including logging, evaluation, and checkpointing, but adds additional quality of life features, including:\n",
        "\n",
        "* Dataset formatting, including conversational and instruction formats\n",
        "* Training on completions only, ignoring prompts\n",
        "* Packing datasets for more efficient training\n",
        "* Parameter-efficient fine-tuning (PEFT) support including QloRA\n",
        "* Preparing the model and tokenizer for conversational fine-tuning (such as adding special tokens)\n",
        "\n",
        "Complete the following code that loads the Gemma model and tokenizer from Hugging Face and initializes the quantization configuration."
      ]
    },
    {
      "cell_type": "code",
      "execution_count": null,
      "metadata": {
        "id": "0D10jRGX_fVw"
      },
      "outputs": [],
      "source": [
        "import torch\n",
        "from transformers import AutoTokenizer, AutoModelForCausalLM, AutoModelForImageTextToText, BitsAndBytesConfig\n",
        "\n",
        "# Hugging Face model id\n",
        "model_id = \"google/gemma-3-1b-pt\"\n",
        "\n",
        "\n",
        "# Define model init arguments\n",
        "# WRITE YOUR CODE HERE\n",
        "model_kwargs = dict(\n",
        "    attn_implementation= ...,\n",
        "    torch_dtype=...\n",
        "    device_map=...\n",
        ")\n",
        "\n",
        "# WRITE YOUR CODE HERE\n",
        "# BitsAndBytesConfig: Enables 4-bit quantization to reduce model size/memory usage\n",
        "model_kwargs[\"quantization_config\"] = BitsAndBytesConfig(\n",
        "    .....\n",
        ")\n",
        "\n",
        "# WRITE YOUR CODE HERE\n",
        "# Load model and tokenizer\n",
        "model = ...\n",
        "tokenizer = ..."
      ]
    },
    {
      "cell_type": "markdown",
      "metadata": {
        "id": "LddoWlzIB9q7"
      },
      "source": [
        " In this part, You only need to create a LoraConfig and to provide it to the SFTtrainer in the next parts Try to create a LoRA configuration with rank and alpha parameter both equal to 16."
      ]
    },
    {
      "cell_type": "code",
      "execution_count": null,
      "metadata": {
        "id": "PCLkFxSdFPb6"
      },
      "outputs": [],
      "source": [
        "from peft import LoraConfig\n",
        "\n",
        "# WRITE YOUR CODE HERE\n",
        "peft_config = LoraConfig(\n",
        "    .....\n",
        ")"
      ]
    },
    {
      "cell_type": "markdown",
      "metadata": {
        "id": "s1n1k0WTGWiv"
      },
      "source": [
        "Before you can start your training, you need to define the hyperparameter you want to use in a SFTConfig instance."
      ]
    },
    {
      "cell_type": "code",
      "execution_count": null,
      "metadata": {
        "id": "CCgfLzZsGZ5W"
      },
      "outputs": [],
      "source": [
        "from trl import SFTConfig\n",
        "\n",
        "# WRITE YOUR CODE HERE\n",
        "args = SFTConfig(\n",
        "    ...)"
      ]
    },
    {
      "cell_type": "markdown",
      "metadata": {
        "id": "Dl1dieVqHcFl"
      },
      "source": [
        "You now have every building block you need to create your SFTTrainer to start the training of your model. Start training model and then save it."
      ]
    },
    {
      "cell_type": "code",
      "execution_count": null,
      "metadata": {
        "id": "GwYCYDQ2H2Ki"
      },
      "outputs": [],
      "source": [
        "from trl import SFTTrainer\n",
        "\n",
        "# WRITE YOUR CODE HERE\n",
        "trainer = SFTTrainer(\n",
        "    ..............\n",
        ")\n",
        "\n",
        "# WRITE YOUR CODE HERE"
      ]
    },
    {
      "cell_type": "markdown",
      "metadata": {
        "id": "vrnqTsLZKNyN"
      },
      "source": [
        "Before you can test your model, make sure to free the memory."
      ]
    },
    {
      "cell_type": "code",
      "execution_count": null,
      "metadata": {
        "id": "dBlj3LtVKPBn"
      },
      "outputs": [],
      "source": [
        "# free the memory again\n",
        "del model\n",
        "del trainer\n",
        "torch.cuda.empty_cache()"
      ]
    },
    {
      "cell_type": "markdown",
      "metadata": {
        "id": "-Dr0pW8fKsbF"
      },
      "source": [
        "### Test Model Inference and generate SQL queries (7 points)"
      ]
    },
    {
      "cell_type": "markdown",
      "metadata": {
        "id": "iwphl2WLLBDt"
      },
      "source": [
        "After the training is done, you should  evaluate and test your model. You should load some samples from the test ataset and evaluate the model on those samples. You do not need to evaluate them based on specific metric. Just try to see different outputs and evaluate them manually."
      ]
    },
    {
      "cell_type": "code",
      "execution_count": null,
      "metadata": {
        "id": "8JIhTHGuLAVR"
      },
      "outputs": [],
      "source": [
        "# WRITE YOUR CODE HERE"
      ]
    },
    {
      "cell_type": "markdown",
      "metadata": {
        "id": "Q63J8IdkUGnt"
      },
      "source": [
        "# Self-Explanations (13 points)"
      ]
    },
    {
      "cell_type": "markdown",
      "metadata": {
        "id": "WtPyu5m-WuQx"
      },
      "source": [
        "In this section, we will explore the fascinating world of LLM self-explanations,\n",
        "focusing on two main approaches:\n",
        "* **Explanation-to-Prediction (E-P)**\n",
        "* **Prediction-to-Explanation (P-E)**\n",
        "\n",
        "You'll implement both techniques and analyze their effectiveness in sentiment analysis tasks.\n",
        "\n",
        "Paper: https://arxiv.org/pdf/2310.11207\n"
      ]
    },
    {
      "cell_type": "markdown",
      "metadata": {
        "id": "E9HH0ipWYXje"
      },
      "source": [
        "## Setup and Imports (1 point)"
      ]
    },
    {
      "cell_type": "markdown",
      "metadata": {
        "id": "I8mycHSvY1Bd"
      },
      "source": [
        "In this part, you should setup OpenAI client. You sould create an account in https://openrouter.ai/ and get a key to use it in the next parts."
      ]
    },
    {
      "cell_type": "code",
      "execution_count": null,
      "metadata": {
        "id": "37_5EH-9UYdU"
      },
      "outputs": [],
      "source": [
        "from openai import OpenAI\n",
        "\n",
        "# WRITE YOUR CODE HERE\n",
        "open_router_key = \"\"\n",
        "\n",
        "client = ...."
      ]
    },
    {
      "cell_type": "markdown",
      "metadata": {
        "id": "euwgtxxHagpN"
      },
      "source": [
        "## Conceptual Understanding (2 points)"
      ]
    },
    {
      "cell_type": "markdown",
      "metadata": {
        "id": "NKTPf4c0ajfr"
      },
      "source": [
        "\n",
        "\n",
        "**Q1**: What are the two main approaches to LLM self-explanations discussed in the paper?\n",
        "Briefly describe each approach.\n",
        "\n",
        "\n",
        "**Q2**: According to the research, what doubt is cast on LLM explanations?\n"
      ]
    },
    {
      "cell_type": "markdown",
      "metadata": {
        "id": "O4DboMGjb5yB"
      },
      "source": [
        "**# Write your answer here**"
      ]
    },
    {
      "cell_type": "markdown",
      "metadata": {
        "id": "BZ6uaZCwckNS"
      },
      "source": [
        " ## Explanation-to-Prediction (E-P) (4 points)"
      ]
    },
    {
      "cell_type": "markdown",
      "metadata": {
        "id": "qA5N-0h6eit4"
      },
      "source": [
        "In this part, we will implement E-P for self-explanation for some movie reviews based on paper. Based on paper, you should:\n",
        "- Complete the E-P prompt template\n",
        "- Implement the function to call model API\n",
        "- Parse and analyze the response\n",
        "\n",
        "**To select model, you can use different models from openrouter that have free API credit.**\n",
        "https://openrouter.ai/models"
      ]
    },
    {
      "cell_type": "code",
      "execution_count": null,
      "metadata": {
        "id": "yqcCemOhma6h"
      },
      "outputs": [],
      "source": [
        "# Sample movie reviews for testing\n",
        "sample_reviews = [\n",
        "    \"Offers that rare combination of entertainment and education that makes for great family viewing.\",\n",
        "    \"A film that takes you inside the rhythms of its subject with remarkable intimacy.\",\n",
        "    \"The movie was absolutely terrible, with poor acting and a confusing plot.\",\n",
        "    \"An outstanding masterpiece that will be remembered for years to come.\"\n",
        "]\n",
        "\n",
        "\n",
        "# WRITE YOUR CODE HERE"
      ]
    },
    {
      "cell_type": "markdown",
      "metadata": {
        "id": "qtt3KJDM4F6p"
      },
      "source": [
        "## Prediction-to-Explanation (P-E) (4 points)"
      ]
    },
    {
      "cell_type": "markdown",
      "metadata": {
        "id": "CemajSIW4Lmx"
      },
      "source": [
        "In this part, we will implement P-E for self-explanation for some movie reviews based on paper. Based on paper, you should:\n",
        "- Complete the E-P prompt template\n",
        "- Implement the function to call model API\n",
        "- Parse and analyze the response\n",
        "\n",
        "**To select model, you can use different models from openrouter that have free API credit.**\n",
        "https://openrouter.ai/models"
      ]
    },
    {
      "cell_type": "code",
      "execution_count": null,
      "metadata": {
        "id": "lCi9CmGk4RUb"
      },
      "outputs": [],
      "source": [
        "# Sample movie reviews for testing\n",
        "sample_reviews = [\n",
        "    \"Offers that rare combination of entertainment and education that makes for great family viewing.\",\n",
        "    \"A film that takes you inside the rhythms of its subject with remarkable intimacy.\",\n",
        "    \"The movie was absolutely terrible, with poor acting and a confusing plot.\",\n",
        "    \"An outstanding masterpiece that will be remembered for years to come.\"\n",
        "]\n",
        "\n",
        "\n",
        "# WRITE YOUR CODE HERE"
      ]
    },
    {
      "cell_type": "markdown",
      "metadata": {
        "id": "DaLxWsIC6Ier"
      },
      "source": [
        "# Comparative Analysis (2 points)"
      ]
    },
    {
      "cell_type": "markdown",
      "metadata": {
        "id": "KubpQ0IR6XWn"
      },
      "source": [
        "Compare Results from both E-P and P-E and talk about the effectiveness of each approach:"
      ]
    },
    {
      "cell_type": "markdown",
      "metadata": {
        "id": "_WbkE42v6ouO"
      },
      "source": [
        "**# Write your answer here**"
      ]
    }
  ],
  "metadata": {
    "colab": {
      "provenance": [],
      "toc_visible": true,
      "gpuType": "T4"
    },
    "kernelspec": {
      "display_name": "Python 3",
      "name": "python3"
    },
    "language_info": {
      "name": "python"
    },
    "accelerator": "GPU"
  },
  "nbformat": 4,
  "nbformat_minor": 0
}